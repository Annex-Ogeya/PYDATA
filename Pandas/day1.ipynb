{
 "cells": [
  {
   "cell_type": "code",
   "execution_count": 1,
   "id": "28e09895",
   "metadata": {},
   "outputs": [],
   "source": [
    "import pandas as pd\n",
    "import numpy as np"
   ]
  },
  {
   "cell_type": "code",
   "execution_count": 3,
   "metadata": {},
   "outputs": [],
   "source": [
    "s=pd.Series([10.5,12.5,14.5,16.5])"
   ]
  },
  {
   "cell_type": "code",
   "execution_count": 4,
   "id": "3f6a7e26",
   "metadata": {},
   "outputs": [
    {
     "name": "stdout",
     "output_type": "stream",
     "text": [
      "0    10.5\n",
      "1    12.5\n",
      "2    14.5\n",
      "3    16.5\n",
      "dtype: float64\n"
     ]
    }
   ],
   "source": [
    "print(s)"
   ]
  },
  {
   "cell_type": "markdown",
   "id": "d11fb4c0",
   "metadata": {},
   "source": [
    "Index:contain unique identifiers of entries within a datafram or seriers"
   ]
  },
  {
   "cell_type": "code",
   "execution_count": 16,
   "id": "b40be9d9",
   "metadata": {},
   "outputs": [],
   "source": [
    "m=pd.Series([10.5,12.5,14.5,16.5],name=\"height\")"
   ]
  },
  {
   "cell_type": "code",
   "execution_count": 17,
   "id": "3e52c283",
   "metadata": {},
   "outputs": [
    {
     "name": "stdout",
     "output_type": "stream",
     "text": [
      "0    10.5\n",
      "1    12.5\n",
      "2    14.5\n",
      "3    16.5\n",
      "Name: height, dtype: float64\n"
     ]
    }
   ],
   "source": [
    "print(m)"
   ]
  },
  {
   "cell_type": "code",
   "execution_count": 18,
   "id": "3934e6e2",
   "metadata": {},
   "outputs": [
    {
     "data": {
      "text/plain": [
       "RangeIndex(start=0, stop=4, step=1)"
      ]
     },
     "execution_count": 18,
     "metadata": {},
     "output_type": "execute_result"
    }
   ],
   "source": [
    "m.index"
   ]
  },
  {
   "cell_type": "code",
   "execution_count": 7,
   "id": "7f2392c1",
   "metadata": {},
   "outputs": [],
   "source": [
    "n=pd.Series([10.5,12.5,14.5,16.5],name=\"height\",index =['a','b','c','d'])"
   ]
  },
  {
   "cell_type": "code",
   "execution_count": 8,
   "id": "f0c5f6c0",
   "metadata": {},
   "outputs": [
    {
     "name": "stdout",
     "output_type": "stream",
     "text": [
      "a    10.5\n",
      "b    12.5\n",
      "c    14.5\n",
      "d    16.5\n",
      "Name: height, dtype: float64\n"
     ]
    }
   ],
   "source": [
    "print(n)"
   ]
  },
  {
   "cell_type": "code",
   "execution_count": 12,
   "id": "2218f1de",
   "metadata": {},
   "outputs": [],
   "source": [
    "o=n=pd.Series([10.5,12.5,14.5,16.5],name=\"height\",index =['a','b','c','d'])"
   ]
  },
  {
   "cell_type": "code",
   "execution_count": 13,
   "id": "06f4a74b",
   "metadata": {},
   "outputs": [
    {
     "name": "stdout",
     "output_type": "stream",
     "text": [
      "a    10.5\n",
      "b    12.5\n",
      "c    14.5\n",
      "d    16.5\n",
      "Name: height, dtype: float64\n"
     ]
    }
   ],
   "source": [
    "print(o)"
   ]
  },
  {
   "cell_type": "code",
   "execution_count": 14,
   "id": "6d5732cd",
   "metadata": {},
   "outputs": [
    {
     "data": {
      "text/plain": [
       "array([10.5, 12.5, 14.5, 16.5])"
      ]
     },
     "execution_count": 14,
     "metadata": {},
     "output_type": "execute_result"
    }
   ],
   "source": [
    "o.values"
   ]
  },
  {
   "cell_type": "code",
   "execution_count": 15,
   "id": "9b0db56b",
   "metadata": {},
   "outputs": [
    {
     "data": {
      "text/plain": [
       "Index(['a', 'b', 'c', 'd'], dtype='object')"
      ]
     },
     "execution_count": 15,
     "metadata": {},
     "output_type": "execute_result"
    }
   ],
   "source": [
    "o.index"
   ]
  },
  {
   "cell_type": "markdown",
   "id": "71e7c6e5",
   "metadata": {},
   "source": [
    "From dictionaries"
   ]
  },
  {
   "cell_type": "code",
   "execution_count": 19,
   "id": "072a62be",
   "metadata": {},
   "outputs": [],
   "source": [
    "population={\"Nairobi\":150000,\"Mombasa\":250000,\"Kitale\":100000}"
   ]
  },
  {
   "cell_type": "code",
   "execution_count": 20,
   "id": "c67fa9da",
   "metadata": {},
   "outputs": [
    {
     "data": {
      "text/plain": [
       "dict"
      ]
     },
     "execution_count": 20,
     "metadata": {},
     "output_type": "execute_result"
    }
   ],
   "source": [
    "type(population)"
   ]
  },
  {
   "cell_type": "code",
   "execution_count": 21,
   "id": "dc3fe88e",
   "metadata": {},
   "outputs": [],
   "source": [
    "pop=pd.Series(population)"
   ]
  },
  {
   "cell_type": "code",
   "execution_count": 22,
   "id": "53d9f8c6",
   "metadata": {},
   "outputs": [
    {
     "data": {
      "text/plain": [
       "Nairobi    150000\n",
       "Mombasa    250000\n",
       "Kitale     100000\n",
       "dtype: int64"
      ]
     },
     "execution_count": 22,
     "metadata": {},
     "output_type": "execute_result"
    }
   ],
   "source": [
    "pop"
   ]
  },
  {
   "cell_type": "code",
   "execution_count": 23,
   "id": "ca4357cd",
   "metadata": {},
   "outputs": [
    {
     "data": {
      "text/plain": [
       "Index(['Nairobi', 'Mombasa', 'Kitale'], dtype='object')"
      ]
     },
     "execution_count": 23,
     "metadata": {},
     "output_type": "execute_result"
    }
   ],
   "source": [
    "pop.index"
   ]
  },
  {
   "cell_type": "code",
   "execution_count": 24,
   "id": "e7dd0851",
   "metadata": {},
   "outputs": [
    {
     "data": {
      "text/plain": [
       "array([150000, 250000, 100000])"
      ]
     },
     "execution_count": 24,
     "metadata": {},
     "output_type": "execute_result"
    }
   ],
   "source": [
    "pop.values"
   ]
  },
  {
   "cell_type": "markdown",
   "id": "4043c939",
   "metadata": {},
   "source": [
    "DataFrame"
   ]
  },
  {
   "cell_type": "code",
   "execution_count": 25,
   "id": "e1df7f52",
   "metadata": {},
   "outputs": [
    {
     "data": {
      "text/plain": [
       "{'Nairobi': 150000, 'Mombasa': 250000, 'Kitale': 100000}"
      ]
     },
     "execution_count": 25,
     "metadata": {},
     "output_type": "execute_result"
    }
   ],
   "source": [
    "population"
   ]
  },
  {
   "cell_type": "code",
   "execution_count": 26,
   "id": "6e558a68",
   "metadata": {},
   "outputs": [],
   "source": [
    "area={\"Nairobi\":200,\"Mombasa\":550,\"Kitale\":130}"
   ]
  },
  {
   "cell_type": "code",
   "execution_count": 27,
   "id": "ef1c9a77",
   "metadata": {},
   "outputs": [
    {
     "data": {
      "text/plain": [
       "{'Nairobi': 200, 'Mombasa': 550, 'Kitale': 130}"
      ]
     },
     "execution_count": 27,
     "metadata": {},
     "output_type": "execute_result"
    }
   ],
   "source": [
    "area"
   ]
  },
  {
   "cell_type": "code",
   "execution_count": 28,
   "id": "3c97ab9e",
   "metadata": {},
   "outputs": [],
   "source": [
    "regions=pd.DataFrame({\"pop\":population,\"cubic_metres\":area})"
   ]
  },
  {
   "cell_type": "code",
   "execution_count": 29,
   "id": "ac7a5cce",
   "metadata": {},
   "outputs": [
    {
     "name": "stdout",
     "output_type": "stream",
     "text": [
      "            pop  cubic_metres\n",
      "Nairobi  150000           200\n",
      "Mombasa  250000           550\n",
      "Kitale   100000           130\n"
     ]
    }
   ],
   "source": [
    "print(regions)"
   ]
  },
  {
   "cell_type": "code",
   "execution_count": 35,
   "id": "0dc942ca",
   "metadata": {},
   "outputs": [
    {
     "data": {
      "text/plain": [
       "'2.3.2'"
      ]
     },
     "execution_count": 35,
     "metadata": {},
     "output_type": "execute_result"
    }
   ],
   "source": [
    "pd.__version__"
   ]
  },
  {
   "cell_type": "code",
   "execution_count": 30,
   "id": "cb22d018",
   "metadata": {},
   "outputs": [
    {
     "data": {
      "text/plain": [
       "Index(['Nairobi', 'Mombasa', 'Kitale'], dtype='object')"
      ]
     },
     "execution_count": 30,
     "metadata": {},
     "output_type": "execute_result"
    }
   ],
   "source": [
    "regions.index"
   ]
  },
  {
   "cell_type": "code",
   "execution_count": null,
   "id": "863c8dad",
   "metadata": {},
   "outputs": [
    {
     "ename": "TypeError",
     "evalue": "unhashable type: 'list'",
     "output_type": "error",
     "traceback": [
      "\u001b[31m---------------------------------------------------------------------------\u001b[39m",
      "\u001b[31mTypeError\u001b[39m                                 Traceback (most recent call last)",
      "\u001b[36mCell\u001b[39m\u001b[36m \u001b[39m\u001b[32mIn[34]\u001b[39m\u001b[32m, line 1\u001b[39m\n\u001b[32m----> \u001b[39m\u001b[32m1\u001b[39m data={\u001b[33m\"\u001b[39m\u001b[33mName\u001b[39m\u001b[33m\"\u001b[39m,[\u001b[33m\"\u001b[39m\u001b[33mJohn\u001b[39m\u001b[33m\"\u001b[39m,\u001b[33m\"\u001b[39m\u001b[33mMary\u001b[39m\u001b[33m\"\u001b[39m,\u001b[33m\"\u001b[39m\u001b[33mPeter\u001b[39m\u001b[33m\"\u001b[39m,\u001b[33m\"\u001b[39m\u001b[33mSusan\u001b[39m\u001b[33m\"\u001b[39m],\n\u001b[32m      2\u001b[39m       \u001b[33m\"\u001b[39m\u001b[33mModule\u001b[39m\u001b[33m\"\u001b[39m,[\u001b[33m\"\u001b[39m\u001b[33mPython\u001b[39m\u001b[33m\"\u001b[39m,\u001b[33m\"\u001b[39m\u001b[33mPydata\u001b[39m\u001b[33m\"\u001b[39m,\u001b[33m\"\u001b[39m\u001b[33mMachine  Learning\u001b[39m\u001b[33m\"\u001b[39m]}\n",
      "\u001b[31mTypeError\u001b[39m: unhashable type: 'list'"
     ]
    }
   ],
   "source": [
    "data={\"Name\",[\"John\",\"Mary\",\"Peter\",\"Susan\"],\n",
    "      \"Module\",[\"Python\",\"Pydata\",\"Machine  Learning\"],\"Scores\",[80,90,75,88]}"
   ]
  },
  {
   "cell_type": "code",
   "execution_count": 31,
   "id": "f422584b",
   "metadata": {},
   "outputs": [
    {
     "ename": "NameError",
     "evalue": "name 'data' is not defined",
     "output_type": "error",
     "traceback": [
      "\u001b[31m---------------------------------------------------------------------------\u001b[39m",
      "\u001b[31mNameError\u001b[39m                                 Traceback (most recent call last)",
      "\u001b[36mCell\u001b[39m\u001b[36m \u001b[39m\u001b[32mIn[31]\u001b[39m\u001b[32m, line 1\u001b[39m\n\u001b[32m----> \u001b[39m\u001b[32m1\u001b[39m df=pd.DataFrame(\u001b[43mdata\u001b[49m)\n\u001b[32m      2\u001b[39m \u001b[38;5;28mprint\u001b[39m(df)\n",
      "\u001b[31mNameError\u001b[39m: name 'data' is not defined"
     ]
    }
   ],
   "source": [
    "df=pd.DataFrame(data)\n",
    "print(df)"
   ]
  }
 ],
 "metadata": {
  "kernelspec": {
   "display_name": "Pydata",
   "language": "python",
   "name": "python3"
  },
  "language_info": {
   "codemirror_mode": {
    "name": "ipython",
    "version": 3
   },
   "file_extension": ".py",
   "mimetype": "text/x-python",
   "name": "python",
   "nbconvert_exporter": "python",
   "pygments_lexer": "ipython3",
   "version": "3.13.5"
  }
 },
 "nbformat": 4,
 "nbformat_minor": 5
}
