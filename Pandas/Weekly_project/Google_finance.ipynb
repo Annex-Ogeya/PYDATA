{
 "cells": [
  {
   "cell_type": "markdown",
   "metadata": {},
   "source": [
    "# Getting Financial Data - Google Finance"
   ]
  },
  {
   "cell_type": "markdown",
   "metadata": {},
   "source": [
    "### Introduction:\n",
    "\n",
    "This time you will get data from a website.\n",
    "\n",
    "\n",
    "### Step 1. Import the necessary libraries"
   ]
  },
  {
   "cell_type": "code",
   "execution_count": 14,
   "metadata": {
    "collapsed": false
   },
   "outputs": [],
   "source": [
    "import pandas as pd\n",
    "from datetime import datetime as dt\n",
    "import yfinance as yf\n"
   ]
  },
  {
   "cell_type": "markdown",
   "metadata": {},
   "source": [
    "### Step 2. Create your time range (start and end variables). The start date should be 01/01/2015 and the end should today (whatever your today is)"
   ]
  },
  {
   "cell_type": "code",
   "execution_count": 7,
   "metadata": {
    "collapsed": false
   },
   "outputs": [
    {
     "name": "stdout",
     "output_type": "stream",
     "text": [
      "Start: 2015-01-01 00:00:00\n",
      "End: 2025-10-01 16:49:26.144120\n"
     ]
    }
   ],
   "source": [
    "start = dt.strptime(\"01/01/2015\", \"%m/%d/%Y\")\n",
    "end = dt.today()\n",
    "\n",
    "print(f\"Start: {start}\")\n",
    "print(f\"End: {end}\")"
   ]
  },
  {
   "cell_type": "markdown",
   "metadata": {},
   "source": [
    "### Step 3. Select the Apple, Tesla, Twitter, IBM, LinkedIn stocks symbols and assign them to a variable called stocks"
   ]
  },
  {
   "cell_type": "code",
   "execution_count": 8,
   "metadata": {
    "collapsed": false
   },
   "outputs": [],
   "source": [
    "stocks = [\"AAPL\", \"TSLA\", \"TWTR\", \"IBM\", \"LNKD\"]\n"
   ]
  },
  {
   "cell_type": "markdown",
   "metadata": {},
   "source": [
    "### Step 4. Read the data from google, assign to df and print it"
   ]
  },
  {
   "cell_type": "code",
   "execution_count": 10,
   "metadata": {
    "collapsed": false
   },
   "outputs": [
    {
     "name": "stderr",
     "output_type": "stream",
     "text": [
      "C:\\Users\\user\\AppData\\Local\\Temp\\ipykernel_9464\\1109736924.py:1: FutureWarning: YF.download() has changed argument auto_adjust default to True\n",
      "  df = yf.download(stocks, start=start, end=end)\n",
      "[*********************100%***********************]  4 of 5 completed\n",
      "\n",
      "3 Failed downloads:\n",
      "['IBM']: OperationalError('database is locked')\n",
      "['LNKD']: YFPricesMissingError('possibly delisted; no price data found  (1d 2015-01-01 00:00:00 -> 2025-10-01 16:49:26.144120)')\n",
      "['TWTR']: YFTzMissingError('possibly delisted; no timezone found')\n"
     ]
    }
   ],
   "source": [
    "df = yf.download(stocks, start=start, end=end)\n"
   ]
  },
  {
   "cell_type": "markdown",
   "metadata": {},
   "source": [
    "### Step 5.  What is the type of structure of df ?"
   ]
  },
  {
   "cell_type": "code",
   "execution_count": 15,
   "metadata": {
    "collapsed": false
   },
   "outputs": [
    {
     "data": {
      "text/plain": [
       "pandas.core.frame.DataFrame"
      ]
     },
     "execution_count": 15,
     "metadata": {},
     "output_type": "execute_result"
    }
   ],
   "source": [
    "type(df)"
   ]
  },
  {
   "cell_type": "markdown",
   "metadata": {},
   "source": [
    "### Step 6. Print all the Items axis values\n",
    "#### To learn more about the Panel structure go to [documentation](http://pandas.pydata.org/pandas-docs/stable/dsintro.html#panel) "
   ]
  },
  {
   "cell_type": "code",
   "execution_count": 18,
   "metadata": {
    "collapsed": false
   },
   "outputs": [
    {
     "name": "stdout",
     "output_type": "stream",
     "text": [
      "Axes:\n",
      "DatetimeIndex(['2015-01-02', '2015-01-05', '2015-01-06', '2015-01-07',\n",
      "               '2015-01-08', '2015-01-09', '2015-01-12', '2015-01-13',\n",
      "               '2015-01-14', '2015-01-15',\n",
      "               ...\n",
      "               '2025-09-18', '2025-09-19', '2025-09-22', '2025-09-23',\n",
      "               '2025-09-24', '2025-09-25', '2025-09-26', '2025-09-29',\n",
      "               '2025-09-30', '2025-10-01'],\n",
      "              dtype='datetime64[ns]', name='Date', length=2703, freq=None)\n",
      "MultiIndex([('Adj Close',  'IBM'),\n",
      "            ('Adj Close', 'LNKD'),\n",
      "            ('Adj Close', 'TWTR'),\n",
      "            (    'Close', 'AAPL'),\n",
      "            (    'Close',  'IBM'),\n",
      "            (    'Close', 'LNKD'),\n",
      "            (    'Close', 'TSLA'),\n",
      "            (    'Close', 'TWTR'),\n",
      "            (     'High', 'AAPL'),\n",
      "            (     'High',  'IBM'),\n",
      "            (     'High', 'LNKD'),\n",
      "            (     'High', 'TSLA'),\n",
      "            (     'High', 'TWTR'),\n",
      "            (      'Low', 'AAPL'),\n",
      "            (      'Low',  'IBM'),\n",
      "            (      'Low', 'LNKD'),\n",
      "            (      'Low', 'TSLA'),\n",
      "            (      'Low', 'TWTR'),\n",
      "            (     'Open', 'AAPL'),\n",
      "            (     'Open',  'IBM'),\n",
      "            (     'Open', 'LNKD'),\n",
      "            (     'Open', 'TSLA'),\n",
      "            (     'Open', 'TWTR'),\n",
      "            (   'Volume', 'AAPL'),\n",
      "            (   'Volume',  'IBM'),\n",
      "            (   'Volume', 'LNKD'),\n",
      "            (   'Volume', 'TSLA'),\n",
      "            (   'Volume', 'TWTR')],\n",
      "           names=['Price', 'Ticker'])\n"
     ]
    }
   ],
   "source": [
    "print(\"Axes:\")\n",
    "for axis in df.axes:\n",
    "    print(axis)\n"
   ]
  },
  {
   "cell_type": "markdown",
   "metadata": {},
   "source": [
    "### Step 7. Good, now we know  the data avaiable. Create a dataFrame called vol, with the Volume values."
   ]
  },
  {
   "cell_type": "code",
   "execution_count": 19,
   "metadata": {
    "collapsed": false
   },
   "outputs": [
    {
     "name": "stdout",
     "output_type": "stream",
     "text": [
      "Ticker           AAPL  IBM  LNKD      TSLA  TWTR\n",
      "Date                                            \n",
      "2015-01-02  212818400  NaN   NaN  71466000   NaN\n",
      "2015-01-05  257142000  NaN   NaN  80527500   NaN\n",
      "2015-01-06  263188400  NaN   NaN  93928500   NaN\n",
      "2015-01-07  160423600  NaN   NaN  44526000   NaN\n",
      "2015-01-08  237458000  NaN   NaN  51637500   NaN\n"
     ]
    }
   ],
   "source": [
    "vol = df['Volume']\n",
    "print(vol.head())\n"
   ]
  },
  {
   "cell_type": "markdown",
   "metadata": {},
   "source": [
    "### Step 8. Aggregate the data of Volume to weekly\n",
    "#### Hint: Be careful to not sum data from the same week of 2015 and other years."
   ]
  },
  {
   "cell_type": "code",
   "execution_count": 21,
   "metadata": {
    "collapsed": false,
    "scrolled": true
   },
   "outputs": [
    {
     "data": {
      "text/html": [
       "<div>\n",
       "<style scoped>\n",
       "    .dataframe tbody tr th:only-of-type {\n",
       "        vertical-align: middle;\n",
       "    }\n",
       "\n",
       "    .dataframe tbody tr th {\n",
       "        vertical-align: top;\n",
       "    }\n",
       "\n",
       "    .dataframe thead th {\n",
       "        text-align: right;\n",
       "    }\n",
       "</style>\n",
       "<table border=\"1\" class=\"dataframe\">\n",
       "  <thead>\n",
       "    <tr style=\"text-align: right;\">\n",
       "      <th>Ticker</th>\n",
       "      <th>AAPL</th>\n",
       "      <th>IBM</th>\n",
       "      <th>LNKD</th>\n",
       "      <th>TSLA</th>\n",
       "      <th>TWTR</th>\n",
       "    </tr>\n",
       "    <tr>\n",
       "      <th>Date</th>\n",
       "      <th></th>\n",
       "      <th></th>\n",
       "      <th></th>\n",
       "      <th></th>\n",
       "      <th></th>\n",
       "    </tr>\n",
       "  </thead>\n",
       "  <tbody>\n",
       "    <tr>\n",
       "      <th>2015-01-04</th>\n",
       "      <td>212818400</td>\n",
       "      <td>0.0</td>\n",
       "      <td>0.0</td>\n",
       "      <td>71466000</td>\n",
       "      <td>0.0</td>\n",
       "    </tr>\n",
       "    <tr>\n",
       "      <th>2015-01-11</th>\n",
       "      <td>1133010000</td>\n",
       "      <td>0.0</td>\n",
       "      <td>0.0</td>\n",
       "      <td>340644000</td>\n",
       "      <td>0.0</td>\n",
       "    </tr>\n",
       "    <tr>\n",
       "      <th>2015-01-18</th>\n",
       "      <td>1216906400</td>\n",
       "      <td>0.0</td>\n",
       "      <td>0.0</td>\n",
       "      <td>461988000</td>\n",
       "      <td>0.0</td>\n",
       "    </tr>\n",
       "    <tr>\n",
       "      <th>2015-01-25</th>\n",
       "      <td>794948000</td>\n",
       "      <td>0.0</td>\n",
       "      <td>0.0</td>\n",
       "      <td>243175500</td>\n",
       "      <td>0.0</td>\n",
       "    </tr>\n",
       "    <tr>\n",
       "      <th>2015-02-01</th>\n",
       "      <td>1863370800</td>\n",
       "      <td>0.0</td>\n",
       "      <td>0.0</td>\n",
       "      <td>235803000</td>\n",
       "      <td>0.0</td>\n",
       "    </tr>\n",
       "  </tbody>\n",
       "</table>\n",
       "</div>"
      ],
      "text/plain": [
       "Ticker            AAPL  IBM  LNKD       TSLA  TWTR\n",
       "Date                                              \n",
       "2015-01-04   212818400  0.0   0.0   71466000   0.0\n",
       "2015-01-11  1133010000  0.0   0.0  340644000   0.0\n",
       "2015-01-18  1216906400  0.0   0.0  461988000   0.0\n",
       "2015-01-25   794948000  0.0   0.0  243175500   0.0\n",
       "2015-02-01  1863370800  0.0   0.0  235803000   0.0"
      ]
     },
     "execution_count": 21,
     "metadata": {},
     "output_type": "execute_result"
    }
   ],
   "source": [
    "vol_weekly = vol.resample('W').sum()\n",
    "vol_weekly.head()\n"
   ]
  },
  {
   "cell_type": "markdown",
   "metadata": {},
   "source": [
    "### Step 9. Find all the volume traded in the year of 2015"
   ]
  },
  {
   "cell_type": "code",
   "execution_count": 27,
   "metadata": {
    "collapsed": false
   },
   "outputs": [
    {
     "name": "stdout",
     "output_type": "stream",
     "text": [
      "Total Volume Traded in 2015:\n",
      "Ticker\n",
      "AAPL    5.226420e+10\n",
      "IBM     0.000000e+00\n",
      "LNKD    0.000000e+00\n",
      "TSLA    1.632327e+10\n",
      "TWTR    0.000000e+00\n",
      "dtype: float64\n"
     ]
    }
   ],
   "source": [
    "vol_2015 = vol.loc['2015-01-01':'2015-12-31']\n",
    "total_vol_2015 = vol_2015.sum()\n",
    "print(\"Total Volume Traded in 2015:\")\n",
    "print(total_vol_2015)\n"
   ]
  },
  {
   "cell_type": "markdown",
   "metadata": {},
   "source": [
    "### BONUS: Create your own question and answer it."
   ]
  },
  {
   "cell_type": "markdown",
   "metadata": {},
   "source": [
    "Calculate the average weekly trading volume for Tesla (TSLA) in the year 2020."
   ]
  },
  {
   "cell_type": "code",
   "execution_count": 28,
   "metadata": {},
   "outputs": [
    {
     "data": {
      "text/plain": [
       "Date\n",
       "2020-01-05    204829500.0\n",
       "2020-01-12    301677900.0\n",
       "2020-01-19    324745200.0\n",
       "2020-01-26    311914125.0\n",
       "2020-02-02    263769300.0\n",
       "2020-02-09    640115700.0\n",
       "2020-02-16    271176600.0\n",
       "2020-02-23    276579000.0\n",
       "2020-03-01    285204900.0\n",
       "2020-03-08    253630800.0\n",
       "2020-03-15    262620000.0\n",
       "2020-03-22    380253900.0\n",
       "2020-03-29    276991500.0\n",
       "2020-04-05    256629900.0\n",
       "2020-04-12    221728500.0\n",
       "2020-04-19    331245000.0\n",
       "2020-04-26    226709700.0\n",
       "2020-05-03    339369300.0\n",
       "2020-05-10    224898600.0\n",
       "2020-05-17    227077800.0\n",
       "2020-05-24    152561100.0\n",
       "2020-05-31    144972375.0\n",
       "2020-06-07    159462600.0\n",
       "2020-06-14    230418600.0\n",
       "2020-06-21    174212100.0\n",
       "2020-06-28    125390100.0\n",
       "2020-07-05    211957125.0\n",
       "2020-07-12    280278300.0\n",
       "2020-07-19    307206300.0\n",
       "2020-07-26    273344400.0\n",
       "2020-08-02    183340500.0\n",
       "2020-08-09    111182400.0\n",
       "2020-08-16    212941200.0\n",
       "2020-08-23    273070500.0\n",
       "2020-08-30    266208300.0\n",
       "2020-09-06    301385760.0\n",
       "2020-09-13    255434700.0\n",
       "2020-09-20    249470460.0\n",
       "2020-09-27    268740840.0\n",
       "2020-10-04    162153600.0\n",
       "2020-10-11    123806160.0\n",
       "2020-10-18    113749680.0\n",
       "2020-10-25    104414880.0\n",
       "2020-11-01     84926220.0\n",
       "2020-11-08     87381840.0\n",
       "2020-11-15     73260660.0\n",
       "2020-11-22    156874860.0\n",
       "2020-11-29    142800075.0\n",
       "2020-12-06    133701360.0\n",
       "2020-12-13    183254460.0\n",
       "2020-12-20    250562520.0\n",
       "2020-12-27    124349925.0\n",
       "2021-01-03    110763975.0\n",
       "Freq: W-SUN, Name: TSLA, dtype: float64"
      ]
     },
     "execution_count": 28,
     "metadata": {},
     "output_type": "execute_result"
    }
   ],
   "source": [
    "vol_2020 = vol.loc['2020-01-01':'2020-12-31']\n",
    "tsla_weekly_avg_2020 = vol_2020['TSLA'].resample('W').mean()\n",
    "tsla_weekly_avg_2020"
   ]
  }
 ],
 "metadata": {
  "kernelspec": {
   "display_name": "Pydata",
   "language": "python",
   "name": "python3"
  },
  "language_info": {
   "codemirror_mode": {
    "name": "ipython",
    "version": 3
   },
   "file_extension": ".py",
   "mimetype": "text/x-python",
   "name": "python",
   "nbconvert_exporter": "python",
   "pygments_lexer": "ipython3",
   "version": "3.13.5"
  }
 },
 "nbformat": 4,
 "nbformat_minor": 0
}
