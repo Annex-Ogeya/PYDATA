{
 "cells": [
  {
   "cell_type": "markdown",
   "metadata": {},
   "source": [
    "# Numpy Exercise 1\n",
    "\n",
    "### All of the questions in this exercise are attributed to rougier/numpy-100"
   ]
  },
  {
   "cell_type": "code",
   "execution_count": null,
   "metadata": {},
   "outputs": [],
   "source": []
  },
  {
   "cell_type": "markdown",
   "metadata": {},
   "source": [
    "#### 1. Import the numpy package under the name `np` (★☆☆)"
   ]
  },
  {
   "cell_type": "code",
   "execution_count": 3,
   "metadata": {},
   "outputs": [],
   "source": [
    "import numpy as np"
   ]
  },
  {
   "cell_type": "markdown",
   "metadata": {},
   "source": [
    "#### 2. Print the numpy version and the configuration (★☆☆)"
   ]
  },
  {
   "cell_type": "code",
   "execution_count": 4,
   "metadata": {},
   "outputs": [
    {
     "name": "stdout",
     "output_type": "stream",
     "text": [
      "2.3.3\n"
     ]
    }
   ],
   "source": [
    "print(np.__version__)"
   ]
  },
  {
   "cell_type": "markdown",
   "metadata": {},
   "source": [
    "#### 3. Create a null vector of size 10 (★☆☆)"
   ]
  },
  {
   "cell_type": "code",
   "execution_count": 5,
   "metadata": {},
   "outputs": [
    {
     "data": {
      "text/plain": [
       "array([0., 0., 0., 0., 0., 0., 0., 0., 0., 0.])"
      ]
     },
     "execution_count": 5,
     "metadata": {},
     "output_type": "execute_result"
    }
   ],
   "source": [
    "np.zeros(10)"
   ]
  },
  {
   "cell_type": "markdown",
   "metadata": {},
   "source": [
    "#### 4. How to find the memory size of any array (★☆☆)"
   ]
  },
  {
   "cell_type": "code",
   "execution_count": 6,
   "metadata": {},
   "outputs": [
    {
     "name": "stdout",
     "output_type": "stream",
     "text": [
      "[0 1 2 3 4 5 6 7 8 9]\n",
      "10\n"
     ]
    }
   ],
   "source": [
    "arr=np.arange(10)\n",
    "print(arr)\n",
    "print(arr.size)"
   ]
  },
  {
   "cell_type": "markdown",
   "metadata": {},
   "source": [
    "#### 5. How to get the documentation of the numpy add function from the command line? (★☆☆)"
   ]
  },
  {
   "cell_type": "code",
   "execution_count": 7,
   "metadata": {},
   "outputs": [
    {
     "data": {
      "text/plain": [
       "<ufunc 'add'>"
      ]
     },
     "execution_count": 7,
     "metadata": {},
     "output_type": "execute_result"
    }
   ],
   "source": [
    "np.add"
   ]
  },
  {
   "cell_type": "markdown",
   "metadata": {},
   "source": [
    "#### 6. Create a null vector of size 10 but the fifth value which is 1 (★☆☆)"
   ]
  },
  {
   "cell_type": "code",
   "execution_count": 8,
   "metadata": {},
   "outputs": [
    {
     "name": "stdout",
     "output_type": "stream",
     "text": [
      "[0 0 0 0 1 0 0 0 0 0]\n"
     ]
    }
   ],
   "source": [
    "array = np.zeros(10,dtype=int)\n",
    "array[4] = 1\n",
    "print(array)"
   ]
  },
  {
   "cell_type": "markdown",
   "metadata": {},
   "source": [
    "#### 7. Create a vector with values ranging from 10 to 49 (★☆☆)"
   ]
  },
  {
   "cell_type": "code",
   "execution_count": 10,
   "metadata": {},
   "outputs": [
    {
     "data": {
      "text/plain": [
       "array([10, 11, 12, 13, 14, 15, 16, 17, 18, 19, 20, 21, 22, 23, 24, 25, 26,\n",
       "       27, 28, 29, 30, 31, 32, 33, 34, 35, 36, 37, 38, 39, 40, 41, 42, 43,\n",
       "       44, 45, 46, 47, 48, 49])"
      ]
     },
     "execution_count": 10,
     "metadata": {},
     "output_type": "execute_result"
    }
   ],
   "source": [
    "np.arange(10,50)"
   ]
  },
  {
   "cell_type": "markdown",
   "metadata": {},
   "source": [
    "#### 8. Reverse a vector (first element becomes last) (★☆☆)"
   ]
  },
  {
   "cell_type": "code",
   "execution_count": null,
   "metadata": {},
   "outputs": [],
   "source": [
    "np.arange(10,50)\n"
   ]
  },
  {
   "cell_type": "markdown",
   "metadata": {},
   "source": [
    "#### 9. Create a 3x3 matrix with values ranging from 0 to 8 (★☆☆)"
   ]
  },
  {
   "cell_type": "code",
   "execution_count": 16,
   "metadata": {},
   "outputs": [
    {
     "data": {
      "text/plain": [
       "array([[0, 1, 2],\n",
       "       [3, 4, 5],\n",
       "       [6, 7, 8]])"
      ]
     },
     "execution_count": 16,
     "metadata": {},
     "output_type": "execute_result"
    }
   ],
   "source": [
    "np.array([\n",
    "    [0,1,2]\n",
    "    ,[3,4,5]\n",
    "    ,[6,7,8]\n",
    "])"
   ]
  },
  {
   "cell_type": "markdown",
   "metadata": {},
   "source": [
    "#### 10. Find indices of non-zero elements from [1,2,0,0,4,0] (★☆☆)"
   ]
  },
  {
   "cell_type": "code",
   "execution_count": 4,
   "metadata": {},
   "outputs": [
    {
     "name": "stdout",
     "output_type": "stream",
     "text": [
      "(array([0, 1, 4]),)\n"
     ]
    }
   ],
   "source": [
    "arr=np.array([1,2,0,0,4,0])\n",
    "arr_nonzero = np.nonzero(arr)\n",
    "print(arr_nonzero)"
   ]
  },
  {
   "cell_type": "markdown",
   "metadata": {},
   "source": [
    "#### 11. Create a 3x3 identity matrix (★☆☆)"
   ]
  },
  {
   "cell_type": "code",
   "execution_count": 11,
   "metadata": {},
   "outputs": [
    {
     "data": {
      "text/plain": [
       "array([[5, 5, 5],\n",
       "       [5, 5, 5],\n",
       "       [5, 5, 5]])"
      ]
     },
     "execution_count": 11,
     "metadata": {},
     "output_type": "execute_result"
    }
   ],
   "source": [
    "np.full((3,3),5)"
   ]
  },
  {
   "cell_type": "markdown",
   "metadata": {},
   "source": [
    "#### 12. Create a 3x3x3 array with random values (★☆☆)"
   ]
  },
  {
   "cell_type": "code",
   "execution_count": 17,
   "metadata": {},
   "outputs": [
    {
     "name": "stdout",
     "output_type": "stream",
     "text": [
      "[[[0.76839488 0.26987689 0.80137439]\n",
      "  [0.89307837 0.0136919  0.38005382]\n",
      "  [0.87339525 0.74505869 0.52970172]]\n",
      "\n",
      " [[0.51850074 0.34072382 0.74624879]\n",
      "  [0.92052883 0.57790991 0.88572126]\n",
      "  [0.15864595 0.62889351 0.94883368]]\n",
      "\n",
      " [[0.3965155  0.72491181 0.09094904]\n",
      "  [0.87975077 0.17387195 0.25001206]\n",
      "  [0.77921944 0.37180193 0.71961137]]]\n"
     ]
    }
   ],
   "source": [
    "arr=np.random.random((3,3,3))\n",
    "print(arr)"
   ]
  },
  {
   "cell_type": "markdown",
   "metadata": {},
   "source": [
    "#### 13. Create a 10x10 array with random values and find the minimum and maximum values (★☆☆)"
   ]
  },
  {
   "cell_type": "code",
   "execution_count": 21,
   "metadata": {},
   "outputs": [
    {
     "name": "stdout",
     "output_type": "stream",
     "text": [
      "[[0.04036397 0.88447503 0.47252324 0.67789059 0.01655865 0.93147766\n",
      "  0.02247578 0.85790542 0.52859186 0.79695102]\n",
      " [0.13271499 0.84158646 0.51322227 0.20291999 0.30801425 0.25484338\n",
      "  0.21572513 0.07960931 0.88238125 0.34334748]\n",
      " [0.89717912 0.00905919 0.75850201 0.06315935 0.43869231 0.37712357\n",
      "  0.8146083  0.7408957  0.4165548  0.36991476]\n",
      " [0.14747837 0.25870705 0.47751562 0.04599554 0.65027445 0.34226603\n",
      "  0.82073462 0.10154254 0.90600417 0.67766625]\n",
      " [0.7959994  0.86038164 0.46310973 0.69049533 0.4297112  0.97829723\n",
      "  0.01303594 0.37309018 0.74712047 0.75667553]\n",
      " [0.9150115  0.00578959 0.98513521 0.1452727  0.32172792 0.89181936\n",
      "  0.79835476 0.62479321 0.52717315 0.72661299]\n",
      " [0.54035078 0.23724354 0.68289489 0.26396227 0.95639112 0.03077428\n",
      "  0.80457841 0.29432363 0.34300382 0.22808503]\n",
      " [0.04992118 0.42596145 0.22442184 0.37601305 0.08144191 0.02084779\n",
      "  0.88591179 0.51093292 0.15684473 0.2165392 ]\n",
      " [0.51181086 0.726624   0.07607065 0.79640189 0.35275998 0.96925282\n",
      "  0.25810638 0.4943016  0.04101194 0.6602449 ]\n",
      " [0.4068428  0.09146884 0.16447905 0.52242726 0.57414855 0.99467586\n",
      "  0.2269707  0.74371879 0.76723461 0.21809629]]\n",
      "0.0057895896846138495\n",
      "0.9946758559470033\n"
     ]
    }
   ],
   "source": [
    "arr=np.random.random((10,10))\n",
    "min=arr.min()\n",
    "max=arr.max()\n",
    "print(arr)\n",
    "print(min)\n",
    "print(max)"
   ]
  },
  {
   "cell_type": "markdown",
   "metadata": {},
   "source": [
    "#### 14. Create a random vector of size 30 and find the mean value (★☆☆)"
   ]
  },
  {
   "cell_type": "code",
   "execution_count": 22,
   "metadata": {},
   "outputs": [
    {
     "name": "stdout",
     "output_type": "stream",
     "text": [
      "[0.04767384 0.5359522  0.80699838 0.44642982 0.61600124 0.96093309\n",
      " 0.0916888  0.53605264 0.25983732 0.64650559 0.43583437 0.47024492\n",
      " 0.6894605  0.90505583 0.92123552 0.96038853 0.34527122 0.87303006\n",
      " 0.60445136 0.22718697 0.87947352 0.8665233  0.66449294 0.97083516\n",
      " 0.43175257 0.78262503 0.80476597 0.66458529 0.77653327 0.07448436]\n",
      "0.6098767875364249\n"
     ]
    }
   ],
   "source": [
    "arr=np.random.random(30)\n",
    "mean=arr.mean()\n",
    "print(arr)\n",
    "print(mean)"
   ]
  },
  {
   "cell_type": "markdown",
   "metadata": {},
   "source": [
    "#### 15. Create a 2d array with 1 on the border and 0 inside (★☆☆)"
   ]
  },
  {
   "cell_type": "code",
   "execution_count": 23,
   "metadata": {},
   "outputs": [
    {
     "name": "stdout",
     "output_type": "stream",
     "text": [
      "[[1 1 1 1 1]\n",
      " [1 0 0 0 1]\n",
      " [1 0 0 0 1]\n",
      " [1 0 0 0 1]\n",
      " [1 1 1 1 1]]\n"
     ]
    }
   ],
   "source": [
    "arr=np.ones((5,5),dtype=int)\n",
    "arr[1:-1,1:-1]=0\n",
    "print(arr)"
   ]
  }
 ],
 "metadata": {
  "kernelspec": {
   "display_name": "Pydata",
   "language": "python",
   "name": "python3"
  },
  "language_info": {
   "codemirror_mode": {
    "name": "ipython",
    "version": 3
   },
   "file_extension": ".py",
   "mimetype": "text/x-python",
   "name": "python",
   "nbconvert_exporter": "python",
   "pygments_lexer": "ipython3",
   "version": "3.13.5"
  }
 },
 "nbformat": 4,
 "nbformat_minor": 4
}
